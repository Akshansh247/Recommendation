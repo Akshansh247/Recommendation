{
 "cells": [
  {
   "cell_type": "code",
   "execution_count": 115,
   "metadata": {},
   "outputs": [],
   "source": [
    "import pandas as pd\n",
    "import numpy as  np"
   ]
  },
  {
   "cell_type": "code",
   "execution_count": 4,
   "metadata": {},
   "outputs": [],
   "source": [
    "import matplotlib.pyplot as plt"
   ]
  },
  {
   "cell_type": "code",
   "execution_count": 5,
   "metadata": {},
   "outputs": [],
   "source": [
    "movies_df = pd.read_csv('ml-1m/ml-1m/movies.dat',\n",
    "                        delimiter='::',encoding='latin-1',engine= 'python', header=None,\n",
    "                        names=['movie_id','movie_name', 'genre'])"
   ]
  },
  {
   "cell_type": "code",
   "execution_count": 6,
   "metadata": {},
   "outputs": [],
   "source": [
    "\n",
    "\n",
    "users_df = pd.read_csv(f'ml-1m/ml-1m/users.dat',encoding='latin-1',\n",
    "                       delimiter='::', engine='python', header=None,\n",
    "                       names=['user_id', 'gender', 'age', 'occupation', 'zip_code'])\n"
   ]
  },
  {
   "cell_type": "code",
   "execution_count": 7,
   "metadata": {},
   "outputs": [],
   "source": [
    "ratings_df = pd.read_csv('ml-1m/ml-1m/ratings.dat',\n",
    "                         delimiter='::', encoding='latin-1',engine='python', header=None,\n",
    "                         names=['user_id', 'movie_id', 'rating', 'time'])"
   ]
  },
  {
   "cell_type": "code",
   "execution_count": 205,
   "metadata": {},
   "outputs": [],
   "source": [
    "user_rating = pd.merge(users_df,ratings_df,on='user_id')"
   ]
  },
  {
   "cell_type": "code",
   "execution_count": 9,
   "metadata": {},
   "outputs": [],
   "source": [
    "final_dataset = pd.merge(user_rating,movies_df,on='movie_id')"
   ]
  },
  {
   "cell_type": "code",
   "execution_count": 112,
   "metadata": {},
   "outputs": [],
   "source": [
    "#first I am trying replacing nan with 0\n",
    "user_item_matrix = user_rating.pivot(index='user_id', columns='movie_id', values='rating').fillna(0)"
   ]
  },
  {
   "cell_type": "code",
   "execution_count": null,
   "metadata": {},
   "outputs": [],
   "source": []
  },
  {
   "cell_type": "code",
   "execution_count": 129,
   "metadata": {},
   "outputs": [],
   "source": [
    "#next I am trying to replacing nan with mean\n",
    "user_item_matrix_ = user_rating.pivot(index='user_id', columns='movie_id', values='rating').fillna(2.5)"
   ]
  },
  {
   "cell_type": "code",
   "execution_count": 125,
   "metadata": {},
   "outputs": [],
   "source": [
    "#formula for cosine similarity  as norm of anything is  = square root of dot product with himself\n",
    "def cosine_similarity(matrix):\n",
    "    similarity = np.dot(matrix.T,matrix)\n",
    "    similarity/= np.sqrt(np.outer(np.diag(similarity.T),np.diag(similarity)))\n",
    "    return similarity\n"
   ]
  },
  {
   "cell_type": "code",
   "execution_count": 150,
   "metadata": {},
   "outputs": [],
   "source": [
    "similarity_matrix = cosine_similarity(user_item_matrix_)"
   ]
  },
  {
   "cell_type": "code",
   "execution_count": 151,
   "metadata": {},
   "outputs": [
    {
     "data": {
      "text/plain": [
       "array([[1.        , 0.95331122, 0.95190488, ..., 0.95614549, 0.9556697 ,\n",
       "        0.9482011 ],\n",
       "       [0.95331122, 1.        , 0.98109349, ..., 0.98657701, 0.98640839,\n",
       "        0.97705269],\n",
       "       [0.95190488, 0.98109349, 1.        , ..., 0.9899897 , 0.98991776,\n",
       "        0.98038907],\n",
       "       ...,\n",
       "       [0.95614549, 0.98657701, 0.9899897 , ..., 1.        , 0.99723653,\n",
       "        0.98832633],\n",
       "       [0.9556697 , 0.98640839, 0.98991776, ..., 0.99723653, 1.        ,\n",
       "        0.98834141],\n",
       "       [0.9482011 , 0.97705269, 0.98038907, ..., 0.98832633, 0.98834141,\n",
       "        1.        ]])"
      ]
     },
     "execution_count": 151,
     "metadata": {},
     "output_type": "execute_result"
    }
   ],
   "source": [
    "similarity_matrix"
   ]
  },
  {
   "cell_type": "code",
   "execution_count": 132,
   "metadata": {},
   "outputs": [
    {
     "ename": "KeyboardInterrupt",
     "evalue": "",
     "output_type": "error",
     "traceback": [
      "\u001b[1;31m---------------------------------------------------------------------------\u001b[0m",
      "\u001b[1;31mKeyboardInterrupt\u001b[0m                         Traceback (most recent call last)",
      "Cell \u001b[1;32mIn[132], line 25\u001b[0m\n\u001b[0;32m     23\u001b[0m \u001b[39mfor\u001b[39;00m j \u001b[39min\u001b[39;00m \u001b[39mrange\u001b[39m(i\u001b[39m+\u001b[39m\u001b[39m1\u001b[39m, num_movies):\n\u001b[0;32m     24\u001b[0m     movie_id1, movie_id2 \u001b[39m=\u001b[39m movie_ids[i], movie_ids[j]\n\u001b[1;32m---> 25\u001b[0m     similarity \u001b[39m=\u001b[39m calculate_movie_similarity(movie_id1, movie_id2)\n\u001b[0;32m     26\u001b[0m     similarity_matrix[i, j] \u001b[39m=\u001b[39m similarity\n\u001b[0;32m     27\u001b[0m     similarity_matrix[j, i] \u001b[39m=\u001b[39m similarity \n",
      "Cell \u001b[1;32mIn[132], line 11\u001b[0m, in \u001b[0;36mcalculate_movie_similarity\u001b[1;34m(movie_id1, movie_id2)\u001b[0m\n\u001b[0;32m      8\u001b[0m \u001b[39mif\u001b[39;00m \u001b[39mlen\u001b[39m(common_users) \u001b[39m==\u001b[39m \u001b[39m0\u001b[39m:\n\u001b[0;32m      9\u001b[0m     \u001b[39mreturn\u001b[39;00m \u001b[39m0.0\u001b[39m  \n\u001b[1;32m---> 11\u001b[0m vector1 \u001b[39m=\u001b[39m ratings1\u001b[39m.\u001b[39;49mloc[common_users]\u001b[39m.\u001b[39mvalues\n\u001b[0;32m     12\u001b[0m vector2 \u001b[39m=\u001b[39m ratings2\u001b[39m.\u001b[39mloc[common_users]\u001b[39m.\u001b[39mvalues\n\u001b[0;32m     14\u001b[0m similarity \u001b[39m=\u001b[39m np\u001b[39m.\u001b[39mdot(vector1, vector2) \u001b[39m/\u001b[39m (np\u001b[39m.\u001b[39mlinalg\u001b[39m.\u001b[39mnorm(vector1) \u001b[39m*\u001b[39m np\u001b[39m.\u001b[39mlinalg\u001b[39m.\u001b[39mnorm(vector2))\n",
      "File \u001b[1;32m~\\AppData\\Local\\Packages\\PythonSoftwareFoundation.Python.3.11_qbz5n2kfra8p0\\LocalCache\\local-packages\\Python311\\site-packages\\pandas\\core\\indexing.py:1153\u001b[0m, in \u001b[0;36m_LocationIndexer.__getitem__\u001b[1;34m(self, key)\u001b[0m\n\u001b[0;32m   1150\u001b[0m axis \u001b[39m=\u001b[39m \u001b[39mself\u001b[39m\u001b[39m.\u001b[39maxis \u001b[39mor\u001b[39;00m \u001b[39m0\u001b[39m\n\u001b[0;32m   1152\u001b[0m maybe_callable \u001b[39m=\u001b[39m com\u001b[39m.\u001b[39mapply_if_callable(key, \u001b[39mself\u001b[39m\u001b[39m.\u001b[39mobj)\n\u001b[1;32m-> 1153\u001b[0m \u001b[39mreturn\u001b[39;00m \u001b[39mself\u001b[39;49m\u001b[39m.\u001b[39;49m_getitem_axis(maybe_callable, axis\u001b[39m=\u001b[39;49maxis)\n",
      "File \u001b[1;32m~\\AppData\\Local\\Packages\\PythonSoftwareFoundation.Python.3.11_qbz5n2kfra8p0\\LocalCache\\local-packages\\Python311\\site-packages\\pandas\\core\\indexing.py:1382\u001b[0m, in \u001b[0;36m_LocIndexer._getitem_axis\u001b[1;34m(self, key, axis)\u001b[0m\n\u001b[0;32m   1379\u001b[0m     \u001b[39mif\u001b[39;00m \u001b[39mhasattr\u001b[39m(key, \u001b[39m\"\u001b[39m\u001b[39mndim\u001b[39m\u001b[39m\"\u001b[39m) \u001b[39mand\u001b[39;00m key\u001b[39m.\u001b[39mndim \u001b[39m>\u001b[39m \u001b[39m1\u001b[39m:\n\u001b[0;32m   1380\u001b[0m         \u001b[39mraise\u001b[39;00m \u001b[39mValueError\u001b[39;00m(\u001b[39m\"\u001b[39m\u001b[39mCannot index with multidimensional key\u001b[39m\u001b[39m\"\u001b[39m)\n\u001b[1;32m-> 1382\u001b[0m     \u001b[39mreturn\u001b[39;00m \u001b[39mself\u001b[39;49m\u001b[39m.\u001b[39;49m_getitem_iterable(key, axis\u001b[39m=\u001b[39;49maxis)\n\u001b[0;32m   1384\u001b[0m \u001b[39m# nested tuple slicing\u001b[39;00m\n\u001b[0;32m   1385\u001b[0m \u001b[39mif\u001b[39;00m is_nested_tuple(key, labels):\n",
      "File \u001b[1;32m~\\AppData\\Local\\Packages\\PythonSoftwareFoundation.Python.3.11_qbz5n2kfra8p0\\LocalCache\\local-packages\\Python311\\site-packages\\pandas\\core\\indexing.py:1322\u001b[0m, in \u001b[0;36m_LocIndexer._getitem_iterable\u001b[1;34m(self, key, axis)\u001b[0m\n\u001b[0;32m   1319\u001b[0m \u001b[39mself\u001b[39m\u001b[39m.\u001b[39m_validate_key(key, axis)\n\u001b[0;32m   1321\u001b[0m \u001b[39m# A collection of keys\u001b[39;00m\n\u001b[1;32m-> 1322\u001b[0m keyarr, indexer \u001b[39m=\u001b[39m \u001b[39mself\u001b[39;49m\u001b[39m.\u001b[39;49m_get_listlike_indexer(key, axis)\n\u001b[0;32m   1323\u001b[0m \u001b[39mreturn\u001b[39;00m \u001b[39mself\u001b[39m\u001b[39m.\u001b[39mobj\u001b[39m.\u001b[39m_reindex_with_indexers(\n\u001b[0;32m   1324\u001b[0m     {axis: [keyarr, indexer]}, copy\u001b[39m=\u001b[39m\u001b[39mTrue\u001b[39;00m, allow_dups\u001b[39m=\u001b[39m\u001b[39mTrue\u001b[39;00m\n\u001b[0;32m   1325\u001b[0m )\n",
      "File \u001b[1;32m~\\AppData\\Local\\Packages\\PythonSoftwareFoundation.Python.3.11_qbz5n2kfra8p0\\LocalCache\\local-packages\\Python311\\site-packages\\pandas\\core\\indexing.py:1520\u001b[0m, in \u001b[0;36m_LocIndexer._get_listlike_indexer\u001b[1;34m(self, key, axis)\u001b[0m\n\u001b[0;32m   1517\u001b[0m ax \u001b[39m=\u001b[39m \u001b[39mself\u001b[39m\u001b[39m.\u001b[39mobj\u001b[39m.\u001b[39m_get_axis(axis)\n\u001b[0;32m   1518\u001b[0m axis_name \u001b[39m=\u001b[39m \u001b[39mself\u001b[39m\u001b[39m.\u001b[39mobj\u001b[39m.\u001b[39m_get_axis_name(axis)\n\u001b[1;32m-> 1520\u001b[0m keyarr, indexer \u001b[39m=\u001b[39m ax\u001b[39m.\u001b[39;49m_get_indexer_strict(key, axis_name)\n\u001b[0;32m   1522\u001b[0m \u001b[39mreturn\u001b[39;00m keyarr, indexer\n",
      "File \u001b[1;32m~\\AppData\\Local\\Packages\\PythonSoftwareFoundation.Python.3.11_qbz5n2kfra8p0\\LocalCache\\local-packages\\Python311\\site-packages\\pandas\\core\\indexes\\base.py:6110\u001b[0m, in \u001b[0;36mIndex._get_indexer_strict\u001b[1;34m(self, key, axis_name)\u001b[0m\n\u001b[0;32m   6107\u001b[0m     keyarr \u001b[39m=\u001b[39m com\u001b[39m.\u001b[39masarray_tuplesafe(keyarr)\n\u001b[0;32m   6109\u001b[0m \u001b[39mif\u001b[39;00m \u001b[39mself\u001b[39m\u001b[39m.\u001b[39m_index_as_unique:\n\u001b[1;32m-> 6110\u001b[0m     indexer \u001b[39m=\u001b[39m \u001b[39mself\u001b[39;49m\u001b[39m.\u001b[39;49mget_indexer_for(keyarr)\n\u001b[0;32m   6111\u001b[0m     keyarr \u001b[39m=\u001b[39m \u001b[39mself\u001b[39m\u001b[39m.\u001b[39mreindex(keyarr)[\u001b[39m0\u001b[39m]\n\u001b[0;32m   6112\u001b[0m \u001b[39melse\u001b[39;00m:\n",
      "File \u001b[1;32m~\\AppData\\Local\\Packages\\PythonSoftwareFoundation.Python.3.11_qbz5n2kfra8p0\\LocalCache\\local-packages\\Python311\\site-packages\\pandas\\core\\indexes\\base.py:6097\u001b[0m, in \u001b[0;36mIndex.get_indexer_for\u001b[1;34m(self, target)\u001b[0m\n\u001b[0;32m   6079\u001b[0m \u001b[39m\u001b[39m\u001b[39m\"\"\"\u001b[39;00m\n\u001b[0;32m   6080\u001b[0m \u001b[39mGuaranteed return of an indexer even when non-unique.\u001b[39;00m\n\u001b[0;32m   6081\u001b[0m \n\u001b[1;32m   (...)\u001b[0m\n\u001b[0;32m   6094\u001b[0m \u001b[39marray([0, 2])\u001b[39;00m\n\u001b[0;32m   6095\u001b[0m \u001b[39m\"\"\"\u001b[39;00m\n\u001b[0;32m   6096\u001b[0m \u001b[39mif\u001b[39;00m \u001b[39mself\u001b[39m\u001b[39m.\u001b[39m_index_as_unique:\n\u001b[1;32m-> 6097\u001b[0m     \u001b[39mreturn\u001b[39;00m \u001b[39mself\u001b[39;49m\u001b[39m.\u001b[39;49mget_indexer(target)\n\u001b[0;32m   6098\u001b[0m indexer, _ \u001b[39m=\u001b[39m \u001b[39mself\u001b[39m\u001b[39m.\u001b[39mget_indexer_non_unique(target)\n\u001b[0;32m   6099\u001b[0m \u001b[39mreturn\u001b[39;00m indexer\n",
      "File \u001b[1;32m~\\AppData\\Local\\Packages\\PythonSoftwareFoundation.Python.3.11_qbz5n2kfra8p0\\LocalCache\\local-packages\\Python311\\site-packages\\pandas\\core\\indexes\\base.py:3943\u001b[0m, in \u001b[0;36mIndex.get_indexer\u001b[1;34m(self, target, method, limit, tolerance)\u001b[0m\n\u001b[0;32m   3938\u001b[0m     target \u001b[39m=\u001b[39m target\u001b[39m.\u001b[39mastype(dtype, copy\u001b[39m=\u001b[39m\u001b[39mFalse\u001b[39;00m)\n\u001b[0;32m   3939\u001b[0m     \u001b[39mreturn\u001b[39;00m this\u001b[39m.\u001b[39m_get_indexer(\n\u001b[0;32m   3940\u001b[0m         target, method\u001b[39m=\u001b[39mmethod, limit\u001b[39m=\u001b[39mlimit, tolerance\u001b[39m=\u001b[39mtolerance\n\u001b[0;32m   3941\u001b[0m     )\n\u001b[1;32m-> 3943\u001b[0m \u001b[39mreturn\u001b[39;00m \u001b[39mself\u001b[39;49m\u001b[39m.\u001b[39;49m_get_indexer(target, method, limit, tolerance)\n",
      "File \u001b[1;32m~\\AppData\\Local\\Packages\\PythonSoftwareFoundation.Python.3.11_qbz5n2kfra8p0\\LocalCache\\local-packages\\Python311\\site-packages\\pandas\\core\\indexes\\base.py:3970\u001b[0m, in \u001b[0;36mIndex._get_indexer\u001b[1;34m(self, target, method, limit, tolerance)\u001b[0m\n\u001b[0;32m   3967\u001b[0m     \u001b[39melse\u001b[39;00m:\n\u001b[0;32m   3968\u001b[0m         tgt_values \u001b[39m=\u001b[39m target\u001b[39m.\u001b[39m_get_engine_target()\n\u001b[1;32m-> 3970\u001b[0m     indexer \u001b[39m=\u001b[39m \u001b[39mself\u001b[39;49m\u001b[39m.\u001b[39;49m_engine\u001b[39m.\u001b[39;49mget_indexer(tgt_values)\n\u001b[0;32m   3972\u001b[0m \u001b[39mreturn\u001b[39;00m ensure_platform_int(indexer)\n",
      "\u001b[1;31mKeyboardInterrupt\u001b[0m: "
     ]
    }
   ],
   "source": [
    "#trying to calculate cosine similarity excluding non-common users , took 300 minutes so not very time efficient\n",
    "def calculate_movie_similarity(movie_id1, movie_id2):\n",
    "    ratings1 = user_item_matrix[movie_id1]\n",
    "    ratings2 = user_item_matrix[movie_id2]\n",
    "\n",
    "    common_users = ratings1[ratings1 != 0].index.intersection(ratings2[ratings2 != 0].index)\n",
    "\n",
    "    if len(common_users) == 0:\n",
    "        return 0.0  \n",
    "\n",
    "    vector1 = ratings1.loc[common_users].values\n",
    "    vector2 = ratings2.loc[common_users].values\n",
    "\n",
    "    similarity = np.dot(vector1, vector2) / (np.linalg.norm(vector1) * np.linalg.norm(vector2))\n",
    "    return similarity\n",
    "\n",
    "\n",
    "num_movies = user_item_matrix.shape[1]\n",
    "movie_ids = user_item_matrix.columns\n",
    "similarity_matrix = np.zeros((num_movies, num_movies))\n",
    "\n",
    "for i in range(num_movies):\n",
    "    for j in range(i+1, num_movies):\n",
    "        movie_id1, movie_id2 = movie_ids[i], movie_ids[j]\n",
    "        similarity = calculate_movie_similarity(movie_id1, movie_id2)\n",
    "        similarity_matrix[i, j] = similarity\n",
    "        similarity_matrix[j, i] = similarity \n"
   ]
  },
  {
   "cell_type": "code",
   "execution_count": 153,
   "metadata": {},
   "outputs": [],
   "source": [
    "similarity_df = pd.DataFrame(similarity_matrix, index=user_item_matrix.columns, columns=user_item_matrix.columns)"
   ]
  },
  {
   "cell_type": "code",
   "execution_count": 49,
   "metadata": {},
   "outputs": [],
   "source": [
    "#function to predict rating of a movie\n",
    "def predict_movie_rating(user_id,movie_id,similarity_matrix,user_rating):\n",
    "    indices = user_rating.columns[user_rating.loc[user_id] != 0]\n",
    "    similarity = similarity_matrix.loc[movie_id,indices]\n",
    "    \n",
    "    ratings = user_rating.loc[user_id,similarity.index]\n",
    "    weighted = np.dot(similarity,ratings)\n",
    "    divide = abs(similarity).sum()\n",
    "    \n",
    "    ret = weighted/divide +user_avg_ratings[user_id] \n",
    "    return ret"
   ]
  },
  {
   "cell_type": "code",
   "execution_count": 158,
   "metadata": {},
   "outputs": [
    {
     "data": {
      "text/plain": [
       "3.7117090396681154"
      ]
     },
     "execution_count": 158,
     "metadata": {},
     "output_type": "execute_result"
    }
   ],
   "source": [
    "predict_movie_rating(2,1193,similarity_df,user_item_matrix)-user_avg_ratings[2]"
   ]
  },
  {
   "cell_type": "code",
   "execution_count": 137,
   "metadata": {},
   "outputs": [],
   "source": [
    "#getting average of rattings provided by a particular user\n",
    "user_avg_ratings = user_rating.groupby('user_id')['rating'].mean()"
   ]
  },
  {
   "cell_type": "code",
   "execution_count": 258,
   "metadata": {},
   "outputs": [],
   "source": [
    "df = pd.merge(user_rating, user_avg_ratings, left_on='user_id', right_index=True, suffixes=('', '_avg'))\n"
   ]
  },
  {
   "cell_type": "code",
   "execution_count": 259,
   "metadata": {},
   "outputs": [],
   "source": [
    "#calculating normalised ratings\n",
    "df['normal'] = df['rating']-df['rating_avg']"
   ]
  },
  {
   "cell_type": "code",
   "execution_count": 140,
   "metadata": {},
   "outputs": [],
   "source": [
    "#a normalised rating matrix that can be used with any kind of similarity\n",
    "normal_item_matrix = df.pivot(index='user_id', columns='movie_id', values='normal').fillna(0)"
   ]
  },
  {
   "cell_type": "code",
   "execution_count": 159,
   "metadata": {},
   "outputs": [],
   "source": [
    "#normalised cosine similarity aka persons correlation coefficient\n",
    "cor_sim = cosine_similarity(normal_item_matrix)"
   ]
  },
  {
   "cell_type": "code",
   "execution_count": 63,
   "metadata": {},
   "outputs": [],
   "source": [
    "#filling diagonal values as 0 so that I don't count same movies in predicting ratings\n",
    "np.fill_diagonal(cor_sim,0)"
   ]
  },
  {
   "cell_type": "code",
   "execution_count": 160,
   "metadata": {},
   "outputs": [],
   "source": [
    "#converting matrix into datafram for better usage\n",
    "cor_sim_df = pd.DataFrame(cor_sim, index=normal_item_matrix.columns, columns=normal_item_matrix.columns)"
   ]
  },
  {
   "cell_type": "code",
   "execution_count": 164,
   "metadata": {},
   "outputs": [
    {
     "data": {
      "text/plain": [
       "4.178648792111135"
      ]
     },
     "execution_count": 164,
     "metadata": {},
     "output_type": "execute_result"
    }
   ],
   "source": [
    "#that will be how it's calculating adding the mean to the predicted value\n",
    "predict_movie_rating(2,1193,cor_sim_df,normal_item_matrix)"
   ]
  },
  {
   "cell_type": "code",
   "execution_count": 165,
   "metadata": {},
   "outputs": [],
   "source": [
    "user_movies = user_rating.groupby('user_id')['movie_id'].count()\n"
   ]
  },
  {
   "cell_type": "code",
   "execution_count": 166,
   "metadata": {},
   "outputs": [],
   "source": [
    "user_movies.replace(0, 3883, inplace=True)"
   ]
  },
  {
   "cell_type": "code",
   "execution_count": 167,
   "metadata": {},
   "outputs": [],
   "source": [
    "#counting weights based on total number of movies a user has watched\n",
    "user_weights = np.sqrt(np.log(3883/user_movies))"
   ]
  },
  {
   "cell_type": "code",
   "execution_count": 260,
   "metadata": {},
   "outputs": [],
   "source": [
    "df_  = pd.merge(df, user_weights, left_on='user_id', right_index=True, suffixes=('', 'weights'))\n"
   ]
  },
  {
   "cell_type": "code",
   "execution_count": 169,
   "metadata": {},
   "outputs": [],
   "source": [
    "df_['weighted'] = df_['normal']*df_['movie_idweights']"
   ]
  },
  {
   "cell_type": "code",
   "execution_count": 170,
   "metadata": {},
   "outputs": [],
   "source": [
    "#weighted matrix to calculate weighted correlation similarity\n",
    "weighted_item_matrix = df_.pivot(index='user_id',columns='movie_id',values='weighted').fillna(0)"
   ]
  },
  {
   "cell_type": "code",
   "execution_count": 171,
   "metadata": {},
   "outputs": [],
   "source": [
    "#weighted correlation similarity\n",
    "w_cor = cosine_similarity(weighted_item_matrix)"
   ]
  },
  {
   "cell_type": "code",
   "execution_count": 172,
   "metadata": {},
   "outputs": [],
   "source": [
    "np.fill_diagonal(w_cor,0)"
   ]
  },
  {
   "cell_type": "code",
   "execution_count": 173,
   "metadata": {},
   "outputs": [],
   "source": [
    "#converting matrix into dataframe\n",
    "w_cor_df = pd.DataFrame(w_cor,index=weighted_item_matrix.columns,columns=weighted_item_matrix.columns)"
   ]
  },
  {
   "cell_type": "code",
   "execution_count": 176,
   "metadata": {},
   "outputs": [
    {
     "data": {
      "text/plain": [
       "4.150675266864334"
      ]
     },
     "execution_count": 176,
     "metadata": {},
     "output_type": "execute_result"
    }
   ],
   "source": [
    "predict_movie_rating(2,1193,w_cor_df,normal_item_matrix)"
   ]
  },
  {
   "cell_type": "code",
   "execution_count": 177,
   "metadata": {},
   "outputs": [],
   "source": [
    "#this is so that I can retrieve movie names\n",
    "i_movie = movies_df.set_index('movie_id')"
   ]
  },
  {
   "cell_type": "code",
   "execution_count": 185,
   "metadata": {},
   "outputs": [],
   "source": [
    "#functions to recommend movies\n",
    "def movie_recommender(user_id,similarity):\n",
    "    indices = user_item_matrix.columns[user_item_matrix.loc[user_id] == 0]\n",
    "    ind = pd.DataFrame(indices)\n",
    "    data = []\n",
    "    for i in indices:\n",
    "        data.append(predict_movie_rating(user_id,i,similarity,normal_item_matrix))\n",
    "    ind['ratings'] = data\n",
    "    ind['ratings'] = ind['ratings']\n",
    "    top = ind.sort_values(by='ratings', ascending=False)[1:10]\n",
    "    movies = i_movie.loc[top['movie_id']]\n",
    "    movies = pd.merge(top,movies,on='movie_id')\n",
    "\n",
    "    \n",
    "\n",
    "    return movies\n",
    "\n"
   ]
  },
  {
   "cell_type": "code",
   "execution_count": 186,
   "metadata": {},
   "outputs": [
    {
     "name": "stderr",
     "output_type": "stream",
     "text": [
      "C:\\Users\\Akshansh\\AppData\\Local\\Temp\\ipykernel_11872\\725082997.py:10: RuntimeWarning: invalid value encountered in scalar divide\n",
      "  ret = weighted/divide +user_avg_ratings[user_id]\n"
     ]
    },
    {
     "data": {
      "text/html": [
       "<div>\n",
       "<style scoped>\n",
       "    .dataframe tbody tr th:only-of-type {\n",
       "        vertical-align: middle;\n",
       "    }\n",
       "\n",
       "    .dataframe tbody tr th {\n",
       "        vertical-align: top;\n",
       "    }\n",
       "\n",
       "    .dataframe thead th {\n",
       "        text-align: right;\n",
       "    }\n",
       "</style>\n",
       "<table border=\"1\" class=\"dataframe\">\n",
       "  <thead>\n",
       "    <tr style=\"text-align: right;\">\n",
       "      <th></th>\n",
       "      <th>movie_id</th>\n",
       "      <th>ratings</th>\n",
       "      <th>movie_name</th>\n",
       "      <th>genre</th>\n",
       "    </tr>\n",
       "  </thead>\n",
       "  <tbody>\n",
       "    <tr>\n",
       "      <th>0</th>\n",
       "      <td>1915</td>\n",
       "      <td>5.000000</td>\n",
       "      <td>Voyage to the Beginning of the World (1997)</td>\n",
       "      <td>Drama</td>\n",
       "    </tr>\n",
       "    <tr>\n",
       "      <th>1</th>\n",
       "      <td>3172</td>\n",
       "      <td>4.799056</td>\n",
       "      <td>Ulysses (Ulisse) (1954)</td>\n",
       "      <td>Adventure</td>\n",
       "    </tr>\n",
       "    <tr>\n",
       "      <th>2</th>\n",
       "      <td>3084</td>\n",
       "      <td>4.742929</td>\n",
       "      <td>Home Page (1999)</td>\n",
       "      <td>Documentary</td>\n",
       "    </tr>\n",
       "    <tr>\n",
       "      <th>3</th>\n",
       "      <td>690</td>\n",
       "      <td>4.723361</td>\n",
       "      <td>Promise, The (Versprechen, Das) (1994)</td>\n",
       "      <td>Romance</td>\n",
       "    </tr>\n",
       "    <tr>\n",
       "      <th>4</th>\n",
       "      <td>3890</td>\n",
       "      <td>4.716737</td>\n",
       "      <td>Back Stage (2000)</td>\n",
       "      <td>Documentary</td>\n",
       "    </tr>\n",
       "    <tr>\n",
       "      <th>5</th>\n",
       "      <td>545</td>\n",
       "      <td>4.607613</td>\n",
       "      <td>Harlem (1993)</td>\n",
       "      <td>Drama</td>\n",
       "    </tr>\n",
       "    <tr>\n",
       "      <th>6</th>\n",
       "      <td>1709</td>\n",
       "      <td>4.607206</td>\n",
       "      <td>Legal Deceit (1997)</td>\n",
       "      <td>Thriller</td>\n",
       "    </tr>\n",
       "    <tr>\n",
       "      <th>7</th>\n",
       "      <td>3290</td>\n",
       "      <td>4.607206</td>\n",
       "      <td>Soft Toilet Seats (1999)</td>\n",
       "      <td>Comedy</td>\n",
       "    </tr>\n",
       "    <tr>\n",
       "      <th>8</th>\n",
       "      <td>127</td>\n",
       "      <td>4.603408</td>\n",
       "      <td>Silence of the Palace, The (Saimt el Qusur) (1...</td>\n",
       "      <td>Drama</td>\n",
       "    </tr>\n",
       "  </tbody>\n",
       "</table>\n",
       "</div>"
      ],
      "text/plain": [
       "   movie_id   ratings                                         movie_name  \\\n",
       "0      1915  5.000000        Voyage to the Beginning of the World (1997)   \n",
       "1      3172  4.799056                            Ulysses (Ulisse) (1954)   \n",
       "2      3084  4.742929                                   Home Page (1999)   \n",
       "3       690  4.723361             Promise, The (Versprechen, Das) (1994)   \n",
       "4      3890  4.716737                                  Back Stage (2000)   \n",
       "5       545  4.607613                                      Harlem (1993)   \n",
       "6      1709  4.607206                                Legal Deceit (1997)   \n",
       "7      3290  4.607206                           Soft Toilet Seats (1999)   \n",
       "8       127  4.603408  Silence of the Palace, The (Saimt el Qusur) (1...   \n",
       "\n",
       "         genre  \n",
       "0        Drama  \n",
       "1    Adventure  \n",
       "2  Documentary  \n",
       "3      Romance  \n",
       "4  Documentary  \n",
       "5        Drama  \n",
       "6     Thriller  \n",
       "7       Comedy  \n",
       "8        Drama  "
      ]
     },
     "execution_count": 186,
     "metadata": {},
     "output_type": "execute_result"
    }
   ],
   "source": [
    "movie_recommender(1,w_cor_df)"
   ]
  },
  {
   "cell_type": "code",
   "execution_count": 81,
   "metadata": {},
   "outputs": [],
   "source": [
    "max = user_rating['time'].max()"
   ]
  },
  {
   "cell_type": "code",
   "execution_count": 204,
   "metadata": {},
   "outputs": [],
   "source": [
    "user_rating['time'] = pd.to_numeric(user_rating['time'])"
   ]
  },
  {
   "cell_type": "code",
   "execution_count": 206,
   "metadata": {},
   "outputs": [
    {
     "data": {
      "image/png": "[encoded data removed]",
      "text/plain": [
       "<Figure size 1000x600 with 1 Axes>"
      ]
     },
     "metadata": {},
     "output_type": "display_data"
    }
   ],
   "source": [
    "\n",
    "\n",
    "# I need to figure out the correct decay factor that makes use of all the ratings yet decaying them\n",
    "plt.figure(figsize=(10, 6))\n",
    "plt.hist(user_rating['time'], bins=10, color='blue', edgecolor='black')\n",
    "plt.xlabel('Time Stamp')\n",
    "plt.ylabel('Number of User Ratings')\n",
    "plt.title('Histogram of User Ratings Over Time')\n",
    "plt.xticks(rotation=45)\n",
    "plt.show()"
   ]
  },
  {
   "cell_type": "code",
   "execution_count": null,
   "metadata": {},
   "outputs": [],
   "source": []
  },
  {
   "cell_type": "code",
   "execution_count": 84,
   "metadata": {},
   "outputs": [],
   "source": [
    "#finally I got the weight after playing around with the decay factor\n",
    "user_rating['decay_weight'] = (1-0.0000083)**(max -user_rating['time'])\n"
   ]
  },
  {
   "cell_type": "code",
   "execution_count": 105,
   "metadata": {},
   "outputs": [
    {
     "data": {
      "text/plain": [
       "825603      1.000000e+00\n",
       "825724      9.996515e-01\n",
       "825731      9.996515e-01\n",
       "825438      9.987806e-01\n",
       "825793      9.979106e-01\n",
       "               ...      \n",
       "996604     4.940656e-324\n",
       "996601     4.940656e-324\n",
       "996600     4.940656e-324\n",
       "996599     4.940656e-324\n",
       "1000208    4.940656e-324\n",
       "Name: decay_weight, Length: 1000209, dtype: float64"
      ]
     },
     "execution_count": 105,
     "metadata": {},
     "output_type": "execute_result"
    }
   ],
   "source": [
    "#by using this value most of the weights are non-zero and hence it's usable\n",
    "user_rating['decay_weight'].sort_values(ascending=False)"
   ]
  },
  {
   "cell_type": "code",
   "execution_count": 86,
   "metadata": {},
   "outputs": [],
   "source": [
    "df['decay_weight'] = user_rating['decay_weight']"
   ]
  },
  {
   "cell_type": "code",
   "execution_count": 87,
   "metadata": {},
   "outputs": [],
   "source": [
    "df['decayed']= df['normal']*df['decay_weight']"
   ]
  },
  {
   "cell_type": "code",
   "execution_count": 88,
   "metadata": {},
   "outputs": [],
   "source": [
    "#decayed rating matrix\n",
    "decay_item_matrix = df.pivot(index='user_id',columns='movie_id',values='decayed').fillna(0)"
   ]
  },
  {
   "cell_type": "code",
   "execution_count": null,
   "metadata": {},
   "outputs": [],
   "source": [
    "decay_item_matrix"
   ]
  },
  {
   "cell_type": "code",
   "execution_count": 91,
   "metadata": {},
   "outputs": [
    {
     "name": "stderr",
     "output_type": "stream",
     "text": [
      "C:\\Users\\Akshansh\\AppData\\Local\\Temp\\ipykernel_11872\\1370891535.py:2: RuntimeWarning: divide by zero encountered in divide\n",
      "  similarity = np.dot(matrix.T,matrix)/(np.linalg.norm(matrix.T,axis=1)[:,None]*np.linalg.norm(matrix,axis=0))\n",
      "C:\\Users\\Akshansh\\AppData\\Local\\Temp\\ipykernel_11872\\1370891535.py:2: RuntimeWarning: invalid value encountered in divide\n",
      "  similarity = np.dot(matrix.T,matrix)/(np.linalg.norm(matrix.T,axis=1)[:,None]*np.linalg.norm(matrix,axis=0))\n"
     ]
    }
   ],
   "source": [
    "#decayed correlation similarity\n",
    "decay_sim = cosine_similarity(decay_item_matrix)"
   ]
  },
  {
   "cell_type": "code",
   "execution_count": 92,
   "metadata": {},
   "outputs": [],
   "source": [
    "decay_sim_df = pd.DataFrame(decay_sim,index=decay_item_matrix.columns,columns=decay_item_matrix.columns)"
   ]
  },
  {
   "cell_type": "code",
   "execution_count": 93,
   "metadata": {},
   "outputs": [
    {
     "data": {
      "text/plain": [
       "4.999999047319135"
      ]
     },
     "execution_count": 93,
     "metadata": {},
     "output_type": "execute_result"
    }
   ],
   "source": [
    "predict_movie_rating(2,1193,decay_sim_df,normal_item_matrix)"
   ]
  },
  {
   "cell_type": "code",
   "execution_count": 187,
   "metadata": {},
   "outputs": [
    {
     "name": "stderr",
     "output_type": "stream",
     "text": [
      "C:\\Users\\Akshansh\\AppData\\Local\\Temp\\ipykernel_11872\\725082997.py:10: RuntimeWarning: invalid value encountered in scalar divide\n",
      "  ret = weighted/divide +user_avg_ratings[user_id]\n"
     ]
    },
    {
     "data": {
      "text/html": [
       "<div>\n",
       "<style scoped>\n",
       "    .dataframe tbody tr th:only-of-type {\n",
       "        vertical-align: middle;\n",
       "    }\n",
       "\n",
       "    .dataframe tbody tr th {\n",
       "        vertical-align: top;\n",
       "    }\n",
       "\n",
       "    .dataframe thead th {\n",
       "        text-align: right;\n",
       "    }\n",
       "</style>\n",
       "<table border=\"1\" class=\"dataframe\">\n",
       "  <thead>\n",
       "    <tr style=\"text-align: right;\">\n",
       "      <th></th>\n",
       "      <th>movie_id</th>\n",
       "      <th>ratings</th>\n",
       "      <th>movie_name</th>\n",
       "      <th>genre</th>\n",
       "    </tr>\n",
       "  </thead>\n",
       "  <tbody>\n",
       "    <tr>\n",
       "      <th>0</th>\n",
       "      <td>133</td>\n",
       "      <td>4.337192</td>\n",
       "      <td>Nueba Yol (1995)</td>\n",
       "      <td>Comedy|Drama</td>\n",
       "    </tr>\n",
       "    <tr>\n",
       "      <th>1</th>\n",
       "      <td>2258</td>\n",
       "      <td>4.149292</td>\n",
       "      <td>Master Ninja I (1984)</td>\n",
       "      <td>Action</td>\n",
       "    </tr>\n",
       "    <tr>\n",
       "      <th>2</th>\n",
       "      <td>1729</td>\n",
       "      <td>4.137902</td>\n",
       "      <td>Jackie Brown (1997)</td>\n",
       "      <td>Crime|Drama</td>\n",
       "    </tr>\n",
       "    <tr>\n",
       "      <th>3</th>\n",
       "      <td>176</td>\n",
       "      <td>4.117010</td>\n",
       "      <td>Living in Oblivion (1995)</td>\n",
       "      <td>Comedy</td>\n",
       "    </tr>\n",
       "    <tr>\n",
       "      <th>4</th>\n",
       "      <td>2438</td>\n",
       "      <td>4.111907</td>\n",
       "      <td>Outside Ozona (1998)</td>\n",
       "      <td>Drama|Thriller</td>\n",
       "    </tr>\n",
       "    <tr>\n",
       "      <th>5</th>\n",
       "      <td>1412</td>\n",
       "      <td>4.111747</td>\n",
       "      <td>Some Mother's Son (1996)</td>\n",
       "      <td>Drama</td>\n",
       "    </tr>\n",
       "    <tr>\n",
       "      <th>6</th>\n",
       "      <td>994</td>\n",
       "      <td>4.084650</td>\n",
       "      <td>Big Night (1996)</td>\n",
       "      <td>Drama</td>\n",
       "    </tr>\n",
       "    <tr>\n",
       "      <th>7</th>\n",
       "      <td>3543</td>\n",
       "      <td>4.082492</td>\n",
       "      <td>Diner (1982)</td>\n",
       "      <td>Comedy|Drama</td>\n",
       "    </tr>\n",
       "    <tr>\n",
       "      <th>8</th>\n",
       "      <td>1296</td>\n",
       "      <td>4.062059</td>\n",
       "      <td>Room with a View, A (1986)</td>\n",
       "      <td>Drama|Romance</td>\n",
       "    </tr>\n",
       "  </tbody>\n",
       "</table>\n",
       "</div>"
      ],
      "text/plain": [
       "   movie_id   ratings                  movie_name           genre\n",
       "0       133  4.337192            Nueba Yol (1995)    Comedy|Drama\n",
       "1      2258  4.149292       Master Ninja I (1984)          Action\n",
       "2      1729  4.137902         Jackie Brown (1997)     Crime|Drama\n",
       "3       176  4.117010   Living in Oblivion (1995)          Comedy\n",
       "4      2438  4.111907        Outside Ozona (1998)  Drama|Thriller\n",
       "5      1412  4.111747    Some Mother's Son (1996)           Drama\n",
       "6       994  4.084650            Big Night (1996)           Drama\n",
       "7      3543  4.082492                Diner (1982)    Comedy|Drama\n",
       "8      1296  4.062059  Room with a View, A (1986)   Drama|Romance"
      ]
     },
     "execution_count": 187,
     "metadata": {},
     "output_type": "execute_result"
    }
   ],
   "source": [
    "#recommending movies to a user based on correlation similarity\n",
    "movie_recommender(3000,cor_sim_df)"
   ]
  },
  {
   "cell_type": "code",
   "execution_count": 190,
   "metadata": {},
   "outputs": [
    {
     "name": "stderr",
     "output_type": "stream",
     "text": [
      "C:\\Users\\Akshansh\\AppData\\Local\\Temp\\ipykernel_11872\\725082997.py:10: RuntimeWarning: invalid value encountered in scalar divide\n",
      "  ret = weighted/divide +user_avg_ratings[user_id]\n"
     ]
    },
    {
     "data": {
      "text/html": [
       "<div>\n",
       "<style scoped>\n",
       "    .dataframe tbody tr th:only-of-type {\n",
       "        vertical-align: middle;\n",
       "    }\n",
       "\n",
       "    .dataframe tbody tr th {\n",
       "        vertical-align: top;\n",
       "    }\n",
       "\n",
       "    .dataframe thead th {\n",
       "        text-align: right;\n",
       "    }\n",
       "</style>\n",
       "<table border=\"1\" class=\"dataframe\">\n",
       "  <thead>\n",
       "    <tr style=\"text-align: right;\">\n",
       "      <th></th>\n",
       "      <th>movie_id</th>\n",
       "      <th>ratings</th>\n",
       "      <th>movie_name</th>\n",
       "      <th>genre</th>\n",
       "    </tr>\n",
       "  </thead>\n",
       "  <tbody>\n",
       "    <tr>\n",
       "      <th>0</th>\n",
       "      <td>2258</td>\n",
       "      <td>4.490577</td>\n",
       "      <td>Master Ninja I (1984)</td>\n",
       "      <td>Action</td>\n",
       "    </tr>\n",
       "    <tr>\n",
       "      <th>1</th>\n",
       "      <td>133</td>\n",
       "      <td>4.344517</td>\n",
       "      <td>Nueba Yol (1995)</td>\n",
       "      <td>Comedy|Drama</td>\n",
       "    </tr>\n",
       "    <tr>\n",
       "      <th>2</th>\n",
       "      <td>176</td>\n",
       "      <td>4.114828</td>\n",
       "      <td>Living in Oblivion (1995)</td>\n",
       "      <td>Comedy</td>\n",
       "    </tr>\n",
       "    <tr>\n",
       "      <th>3</th>\n",
       "      <td>2438</td>\n",
       "      <td>4.110680</td>\n",
       "      <td>Outside Ozona (1998)</td>\n",
       "      <td>Drama|Thriller</td>\n",
       "    </tr>\n",
       "    <tr>\n",
       "      <th>4</th>\n",
       "      <td>1729</td>\n",
       "      <td>4.105975</td>\n",
       "      <td>Jackie Brown (1997)</td>\n",
       "      <td>Crime|Drama</td>\n",
       "    </tr>\n",
       "    <tr>\n",
       "      <th>5</th>\n",
       "      <td>3543</td>\n",
       "      <td>4.081321</td>\n",
       "      <td>Diner (1982)</td>\n",
       "      <td>Comedy|Drama</td>\n",
       "    </tr>\n",
       "    <tr>\n",
       "      <th>6</th>\n",
       "      <td>994</td>\n",
       "      <td>4.068390</td>\n",
       "      <td>Big Night (1996)</td>\n",
       "      <td>Drama</td>\n",
       "    </tr>\n",
       "    <tr>\n",
       "      <th>7</th>\n",
       "      <td>3647</td>\n",
       "      <td>4.062955</td>\n",
       "      <td>Running Free (2000)</td>\n",
       "      <td>Drama</td>\n",
       "    </tr>\n",
       "    <tr>\n",
       "      <th>8</th>\n",
       "      <td>1296</td>\n",
       "      <td>4.059540</td>\n",
       "      <td>Room with a View, A (1986)</td>\n",
       "      <td>Drama|Romance</td>\n",
       "    </tr>\n",
       "  </tbody>\n",
       "</table>\n",
       "</div>"
      ],
      "text/plain": [
       "   movie_id   ratings                  movie_name           genre\n",
       "0      2258  4.490577       Master Ninja I (1984)          Action\n",
       "1       133  4.344517            Nueba Yol (1995)    Comedy|Drama\n",
       "2       176  4.114828   Living in Oblivion (1995)          Comedy\n",
       "3      2438  4.110680        Outside Ozona (1998)  Drama|Thriller\n",
       "4      1729  4.105975         Jackie Brown (1997)     Crime|Drama\n",
       "5      3543  4.081321                Diner (1982)    Comedy|Drama\n",
       "6       994  4.068390            Big Night (1996)           Drama\n",
       "7      3647  4.062955         Running Free (2000)           Drama\n",
       "8      1296  4.059540  Room with a View, A (1986)   Drama|Romance"
      ]
     },
     "execution_count": 190,
     "metadata": {},
     "output_type": "execute_result"
    }
   ],
   "source": [
    "#recommending movies based on weghted similerity\n",
    "movie_recommender(3000,w_cor_df)"
   ]
  },
  {
   "cell_type": "code",
   "execution_count": 189,
   "metadata": {},
   "outputs": [
    {
     "data": {
      "text/html": [
       "<div>\n",
       "<style scoped>\n",
       "    .dataframe tbody tr th:only-of-type {\n",
       "        vertical-align: middle;\n",
       "    }\n",
       "\n",
       "    .dataframe tbody tr th {\n",
       "        vertical-align: top;\n",
       "    }\n",
       "\n",
       "    .dataframe thead th {\n",
       "        text-align: right;\n",
       "    }\n",
       "</style>\n",
       "<table border=\"1\" class=\"dataframe\">\n",
       "  <thead>\n",
       "    <tr style=\"text-align: right;\">\n",
       "      <th></th>\n",
       "      <th>movie_id</th>\n",
       "      <th>ratings</th>\n",
       "      <th>movie_name</th>\n",
       "      <th>genre</th>\n",
       "    </tr>\n",
       "  </thead>\n",
       "  <tbody>\n",
       "    <tr>\n",
       "      <th>0</th>\n",
       "      <td>50</td>\n",
       "      <td>3.261896</td>\n",
       "      <td>Usual Suspects, The (1995)</td>\n",
       "      <td>Crime|Thriller</td>\n",
       "    </tr>\n",
       "    <tr>\n",
       "      <th>1</th>\n",
       "      <td>608</td>\n",
       "      <td>3.261825</td>\n",
       "      <td>Fargo (1996)</td>\n",
       "      <td>Crime|Drama|Thriller</td>\n",
       "    </tr>\n",
       "    <tr>\n",
       "      <th>2</th>\n",
       "      <td>1136</td>\n",
       "      <td>3.261569</td>\n",
       "      <td>Monty Python and the Holy Grail (1974)</td>\n",
       "      <td>Comedy</td>\n",
       "    </tr>\n",
       "    <tr>\n",
       "      <th>3</th>\n",
       "      <td>1617</td>\n",
       "      <td>3.261292</td>\n",
       "      <td>L.A. Confidential (1997)</td>\n",
       "      <td>Crime|Film-Noir|Mystery|Thriller</td>\n",
       "    </tr>\n",
       "    <tr>\n",
       "      <th>4</th>\n",
       "      <td>318</td>\n",
       "      <td>3.261248</td>\n",
       "      <td>Shawshank Redemption, The (1994)</td>\n",
       "      <td>Drama</td>\n",
       "    </tr>\n",
       "    <tr>\n",
       "      <th>5</th>\n",
       "      <td>1394</td>\n",
       "      <td>3.261199</td>\n",
       "      <td>Raising Arizona (1987)</td>\n",
       "      <td>Comedy</td>\n",
       "    </tr>\n",
       "    <tr>\n",
       "      <th>6</th>\n",
       "      <td>858</td>\n",
       "      <td>3.261178</td>\n",
       "      <td>Godfather, The (1972)</td>\n",
       "      <td>Action|Crime|Drama</td>\n",
       "    </tr>\n",
       "    <tr>\n",
       "      <th>7</th>\n",
       "      <td>1089</td>\n",
       "      <td>3.260976</td>\n",
       "      <td>Reservoir Dogs (1992)</td>\n",
       "      <td>Crime|Thriller</td>\n",
       "    </tr>\n",
       "    <tr>\n",
       "      <th>8</th>\n",
       "      <td>1213</td>\n",
       "      <td>3.260950</td>\n",
       "      <td>GoodFellas (1990)</td>\n",
       "      <td>Crime|Drama</td>\n",
       "    </tr>\n",
       "  </tbody>\n",
       "</table>\n",
       "</div>"
      ],
      "text/plain": [
       "   movie_id   ratings                              movie_name  \\\n",
       "0        50  3.261896              Usual Suspects, The (1995)   \n",
       "1       608  3.261825                            Fargo (1996)   \n",
       "2      1136  3.261569  Monty Python and the Holy Grail (1974)   \n",
       "3      1617  3.261292                L.A. Confidential (1997)   \n",
       "4       318  3.261248        Shawshank Redemption, The (1994)   \n",
       "5      1394  3.261199                  Raising Arizona (1987)   \n",
       "6       858  3.261178                   Godfather, The (1972)   \n",
       "7      1089  3.260976                   Reservoir Dogs (1992)   \n",
       "8      1213  3.260950                       GoodFellas (1990)   \n",
       "\n",
       "                              genre  \n",
       "0                    Crime|Thriller  \n",
       "1              Crime|Drama|Thriller  \n",
       "2                            Comedy  \n",
       "3  Crime|Film-Noir|Mystery|Thriller  \n",
       "4                             Drama  \n",
       "5                            Comedy  \n",
       "6                Action|Crime|Drama  \n",
       "7                    Crime|Thriller  \n",
       "8                       Crime|Drama  "
      ]
     },
     "execution_count": 189,
     "metadata": {},
     "output_type": "execute_result"
    }
   ],
   "source": [
    "#recommending movies based on cosine similarity\n",
    "movie_recommender(3000,similarity_df)"
   ]
  },
  {
   "cell_type": "code",
   "execution_count": 192,
   "metadata": {},
   "outputs": [],
   "source": [
    "#here I am figuring out why I am not getting recommended very old movies and if I can do anything with time of the movie released\n",
    "import re\n",
    "movies_df['year'] = movies_df['movie_name'].apply(lambda movie_name: re.search('\\((\\d*)\\)', movie_name).groups(1)[0])"
   ]
  },
  {
   "cell_type": "code",
   "execution_count": 195,
   "metadata": {},
   "outputs": [
    {
     "data": {
      "image/png": "[encoded data removed]",
      "text/plain": [
       "<Figure size 1000x600 with 1 Axes>"
      ]
     },
     "metadata": {},
     "output_type": "display_data"
    }
   ],
   "source": [
    "movies_per_year = movies_df['year'].value_counts().sort_index()\n",
    "\n",
    "plt.figure(figsize=(10, 6))\n",
    "plt.bar(movies_per_year.index, movies_per_year.values, color='skyblue')\n",
    "plt.xlabel('Year')\n",
    "plt.ylabel('Number of Movies Released')\n",
    "plt.title('Histogram of Movies Released Each Year')\n",
    "plt.xticks(rotation=45)\n",
    "plt.show()"
   ]
  },
  {
   "cell_type": "markdown",
   "metadata": {},
   "source": [
    "Well seems like I can add some weights to the older movies but I can do this in future , as I have not yet figured out what weights I should add should it be exponential decay or simply frequency of the movies/total movies."
   ]
  },
  {
   "cell_type": "code",
   "execution_count": 201,
   "metadata": {},
   "outputs": [],
   "source": [
    "movies_df['genre'] = movies_df['genre'].apply(lambda x: x.split('|'))\n",
    "movies_df_exploded = movies_df.explode('genre')\n"
   ]
  },
  {
   "cell_type": "code",
   "execution_count": 232,
   "metadata": {},
   "outputs": [
    {
     "data": {
      "image/png": "[encoded data removed]",
      "text/plain": [
       "<Figure size 1000x600 with 1 Axes>"
      ]
     },
     "metadata": {},
     "output_type": "display_data"
    }
   ],
   "source": [
    "genre_counts = movies_df_exploded['genre'].value_counts()\n",
    "\n",
    "# Plot the histogram\n",
    "plt.figure(figsize=(10, 6))\n",
    "plt.bar(genre_counts.index, genre_counts.values, color='skyblue')\n",
    "plt.xlabel('Genre')\n",
    "plt.ylabel('Number of Movies')\n",
    "plt.title('Histogram of Movies by Genre')\n",
    "plt.xticks(rotation=45, ha='right')\n",
    "plt.show()"
   ]
  },
  {
   "cell_type": "code",
   "execution_count": null,
   "metadata": {},
   "outputs": [],
   "source": [
    "#Here I am just trying out if I can do anything of genres it's a failed attempt as it recommends movies of a particular genre only to the users"
   ]
  },
  {
   "cell_type": "code",
   "execution_count": 207,
   "metadata": {},
   "outputs": [],
   "source": [
    "from sklearn.preprocessing import MultiLabelBinarizer"
   ]
  },
  {
   "cell_type": "code",
   "execution_count": 210,
   "metadata": {},
   "outputs": [],
   "source": [
    "mlb = MultiLabelBinarizer()\n",
    "genres_binary = pd.DataFrame(mlb.fit_transform(movies_df['genre']), columns=mlb.classes_, index=movies_df['movie_id'])"
   ]
  },
  {
   "cell_type": "code",
   "execution_count": 213,
   "metadata": {},
   "outputs": [],
   "source": [
    "genres_binary = genres_binary.astype('float64')"
   ]
  },
  {
   "cell_type": "code",
   "execution_count": 215,
   "metadata": {},
   "outputs": [],
   "source": [
    "genre_similarity = cosine_similarity(genres_binary.T)"
   ]
  },
  {
   "cell_type": "code",
   "execution_count": 220,
   "metadata": {},
   "outputs": [],
   "source": [
    "genre_similarity_df = pd.DataFrame(genre_similarity,index=genres_binary.index, columns=genres_binary.index)"
   ]
  },
  {
   "cell_type": "code",
   "execution_count": 219,
   "metadata": {},
   "outputs": [],
   "source": [
    "np.fill_diagonal(genre_similarity,0)"
   ]
  },
  {
   "cell_type": "code",
   "execution_count": 226,
   "metadata": {},
   "outputs": [
    {
     "name": "stderr",
     "output_type": "stream",
     "text": [
      "C:\\Users\\Akshansh\\AppData\\Local\\Temp\\ipykernel_11872\\725082997.py:10: RuntimeWarning: invalid value encountered in scalar divide\n",
      "  ret = weighted/divide +user_avg_ratings[user_id]\n"
     ]
    },
    {
     "data": {
      "text/html": [
       "<div>\n",
       "<style scoped>\n",
       "    .dataframe tbody tr th:only-of-type {\n",
       "        vertical-align: middle;\n",
       "    }\n",
       "\n",
       "    .dataframe tbody tr th {\n",
       "        vertical-align: top;\n",
       "    }\n",
       "\n",
       "    .dataframe thead th {\n",
       "        text-align: right;\n",
       "    }\n",
       "</style>\n",
       "<table border=\"1\" class=\"dataframe\">\n",
       "  <thead>\n",
       "    <tr style=\"text-align: right;\">\n",
       "      <th></th>\n",
       "      <th>movie_id</th>\n",
       "      <th>ratings</th>\n",
       "      <th>movie_name</th>\n",
       "      <th>genre</th>\n",
       "    </tr>\n",
       "  </thead>\n",
       "  <tbody>\n",
       "    <tr>\n",
       "      <th>0</th>\n",
       "      <td>760</td>\n",
       "      <td>5.0</td>\n",
       "      <td>Stalingrad (1993)</td>\n",
       "      <td>War</td>\n",
       "    </tr>\n",
       "    <tr>\n",
       "      <th>1</th>\n",
       "      <td>3367</td>\n",
       "      <td>5.0</td>\n",
       "      <td>Devil's Brigade, The (1968)</td>\n",
       "      <td>War</td>\n",
       "    </tr>\n",
       "    <tr>\n",
       "      <th>2</th>\n",
       "      <td>632</td>\n",
       "      <td>5.0</td>\n",
       "      <td>Land and Freedom (Tierra y libertad) (1995)</td>\n",
       "      <td>War</td>\n",
       "    </tr>\n",
       "    <tr>\n",
       "      <th>3</th>\n",
       "      <td>1450</td>\n",
       "      <td>5.0</td>\n",
       "      <td>Prisoner of the Mountains (Kavkazsky Plennik) ...</td>\n",
       "      <td>War</td>\n",
       "    </tr>\n",
       "    <tr>\n",
       "      <th>4</th>\n",
       "      <td>2669</td>\n",
       "      <td>5.0</td>\n",
       "      <td>Pork Chop Hill (1959)</td>\n",
       "      <td>War</td>\n",
       "    </tr>\n",
       "    <tr>\n",
       "      <th>5</th>\n",
       "      <td>3339</td>\n",
       "      <td>5.0</td>\n",
       "      <td>Cross of Iron (1977)</td>\n",
       "      <td>War</td>\n",
       "    </tr>\n",
       "    <tr>\n",
       "      <th>6</th>\n",
       "      <td>3670</td>\n",
       "      <td>5.0</td>\n",
       "      <td>Story of G.I. Joe, The (1945)</td>\n",
       "      <td>War</td>\n",
       "    </tr>\n",
       "    <tr>\n",
       "      <th>7</th>\n",
       "      <td>1927</td>\n",
       "      <td>5.0</td>\n",
       "      <td>All Quiet on the Western Front (1930)</td>\n",
       "      <td>War</td>\n",
       "    </tr>\n",
       "    <tr>\n",
       "      <th>8</th>\n",
       "      <td>2670</td>\n",
       "      <td>5.0</td>\n",
       "      <td>Run Silent, Run Deep (1958)</td>\n",
       "      <td>War</td>\n",
       "    </tr>\n",
       "  </tbody>\n",
       "</table>\n",
       "</div>"
      ],
      "text/plain": [
       "   movie_id  ratings                                         movie_name genre\n",
       "0       760      5.0                                  Stalingrad (1993)   War\n",
       "1      3367      5.0                        Devil's Brigade, The (1968)   War\n",
       "2       632      5.0        Land and Freedom (Tierra y libertad) (1995)   War\n",
       "3      1450      5.0  Prisoner of the Mountains (Kavkazsky Plennik) ...   War\n",
       "4      2669      5.0                              Pork Chop Hill (1959)   War\n",
       "5      3339      5.0                               Cross of Iron (1977)   War\n",
       "6      3670      5.0                      Story of G.I. Joe, The (1945)   War\n",
       "7      1927      5.0              All Quiet on the Western Front (1930)   War\n",
       "8      2670      5.0                        Run Silent, Run Deep (1958)   War"
      ]
     },
     "execution_count": 226,
     "metadata": {},
     "output_type": "execute_result"
    }
   ],
   "source": [
    "#well it's not very good , need to figure out any way to add weights based on genres to the other similarity maybe it should depend on total movies in a particular genre\n",
    "movie_recommender(1,genre_similarity_df)"
   ]
  },
  {
   "cell_type": "markdown",
   "metadata": {},
   "source": [
    "Hence now I am deciding just like I have added weights based on total movies a user has rated , I can add weights on basis of total movies in a particular genre , I am taking log of [total movies/total movie in that genre ] this will make sure a movie that is of genre having very less users get's more weight."
   ]
  },
  {
   "cell_type": "code",
   "execution_count": 235,
   "metadata": {},
   "outputs": [],
   "source": [
    "genre_counts = movies_df_exploded['genre'].value_counts()\n"
   ]
  },
  {
   "cell_type": "code",
   "execution_count": 241,
   "metadata": {},
   "outputs": [],
   "source": [
    "genre_weights = np.sqrt(np.log(3883/genre_counts))"
   ]
  },
  {
   "cell_type": "code",
   "execution_count": 246,
   "metadata": {},
   "outputs": [],
   "source": [
    "genredata = pd.merge(movies_df_exploded,genre_weights,on='genre')"
   ]
  },
  {
   "cell_type": "code",
   "execution_count": 254,
   "metadata": {},
   "outputs": [],
   "source": [
    "#calculating weights associated with each movie here i am considering maximum of the all genres\n",
    "movieweight = genredata.groupby('movie_id')['count'].max()"
   ]
  },
  {
   "cell_type": "code",
   "execution_count": 262,
   "metadata": {},
   "outputs": [],
   "source": [
    "weightdata = pd.merge(df,movieweight,on='movie_id')"
   ]
  },
  {
   "cell_type": "code",
   "execution_count": 267,
   "metadata": {},
   "outputs": [],
   "source": [
    "weightdata['weightedtrix'] = weightdata['normal']*weightdata['count']"
   ]
  },
  {
   "cell_type": "code",
   "execution_count": 270,
   "metadata": {},
   "outputs": [],
   "source": [
    "genre_weighted_matrix = pd.pivot(weightdata,index='user_id',columns='movie_id',values='count').fillna(0)"
   ]
  },
  {
   "cell_type": "code",
   "execution_count": 274,
   "metadata": {},
   "outputs": [],
   "source": [
    "genre_weited_similarity = cosine_similarity(genre_weighted_matrix)"
   ]
  },
  {
   "cell_type": "code",
   "execution_count": 281,
   "metadata": {},
   "outputs": [],
   "source": [
    "#now I have a similarity matrix where I have multiplied genre weights\n",
    "genre_Weight_sim = pd.DataFrame(genre_weited_similarity,index=genre_weighted_matrix.columns,columns=genre_weighted_matrix.columns)"
   ]
  },
  {
   "cell_type": "code",
   "execution_count": 286,
   "metadata": {},
   "outputs": [
    {
     "data": {
      "text/html": [
       "<div>\n",
       "<style scoped>\n",
       "    .dataframe tbody tr th:only-of-type {\n",
       "        vertical-align: middle;\n",
       "    }\n",
       "\n",
       "    .dataframe tbody tr th {\n",
       "        vertical-align: top;\n",
       "    }\n",
       "\n",
       "    .dataframe thead th {\n",
       "        text-align: right;\n",
       "    }\n",
       "</style>\n",
       "<table border=\"1\" class=\"dataframe\">\n",
       "  <thead>\n",
       "    <tr style=\"text-align: right;\">\n",
       "      <th></th>\n",
       "      <th>movie_id</th>\n",
       "      <th>ratings</th>\n",
       "      <th>movie_name</th>\n",
       "      <th>genre</th>\n",
       "    </tr>\n",
       "  </thead>\n",
       "  <tbody>\n",
       "    <tr>\n",
       "      <th>0</th>\n",
       "      <td>989</td>\n",
       "      <td>4.843422</td>\n",
       "      <td>Schlafes Bruder (Brother of Sleep) (1995)</td>\n",
       "      <td>Drama</td>\n",
       "    </tr>\n",
       "    <tr>\n",
       "      <th>1</th>\n",
       "      <td>624</td>\n",
       "      <td>4.504215</td>\n",
       "      <td>Condition Red (1995)</td>\n",
       "      <td>Action|Drama|Thriller</td>\n",
       "    </tr>\n",
       "    <tr>\n",
       "      <th>2</th>\n",
       "      <td>3382</td>\n",
       "      <td>4.443915</td>\n",
       "      <td>Song of Freedom (1936)</td>\n",
       "      <td>Drama</td>\n",
       "    </tr>\n",
       "    <tr>\n",
       "      <th>3</th>\n",
       "      <td>3323</td>\n",
       "      <td>4.443915</td>\n",
       "      <td>Chain of Fools (2000)</td>\n",
       "      <td>Comedy|Crime</td>\n",
       "    </tr>\n",
       "    <tr>\n",
       "      <th>4</th>\n",
       "      <td>127</td>\n",
       "      <td>4.443915</td>\n",
       "      <td>Silence of the Palace, The (Saimt el Qusur) (1...</td>\n",
       "      <td>Drama</td>\n",
       "    </tr>\n",
       "    <tr>\n",
       "      <th>5</th>\n",
       "      <td>3779</td>\n",
       "      <td>4.374767</td>\n",
       "      <td>Project Moon Base (1953)</td>\n",
       "      <td>Sci-Fi</td>\n",
       "    </tr>\n",
       "    <tr>\n",
       "      <th>6</th>\n",
       "      <td>3890</td>\n",
       "      <td>4.288253</td>\n",
       "      <td>Back Stage (2000)</td>\n",
       "      <td>Documentary</td>\n",
       "    </tr>\n",
       "    <tr>\n",
       "      <th>7</th>\n",
       "      <td>655</td>\n",
       "      <td>4.185079</td>\n",
       "      <td>Mutters Courage (1995)</td>\n",
       "      <td>Comedy</td>\n",
       "    </tr>\n",
       "    <tr>\n",
       "      <th>8</th>\n",
       "      <td>1709</td>\n",
       "      <td>4.157411</td>\n",
       "      <td>Legal Deceit (1997)</td>\n",
       "      <td>Thriller</td>\n",
       "    </tr>\n",
       "  </tbody>\n",
       "</table>\n",
       "</div>"
      ],
      "text/plain": [
       "   movie_id   ratings                                         movie_name  \\\n",
       "0       989  4.843422          Schlafes Bruder (Brother of Sleep) (1995)   \n",
       "1       624  4.504215                               Condition Red (1995)   \n",
       "2      3382  4.443915                             Song of Freedom (1936)   \n",
       "3      3323  4.443915                              Chain of Fools (2000)   \n",
       "4       127  4.443915  Silence of the Palace, The (Saimt el Qusur) (1...   \n",
       "5      3779  4.374767                           Project Moon Base (1953)   \n",
       "6      3890  4.288253                                  Back Stage (2000)   \n",
       "7       655  4.185079                             Mutters Courage (1995)   \n",
       "8      1709  4.157411                                Legal Deceit (1997)   \n",
       "\n",
       "                   genre  \n",
       "0                  Drama  \n",
       "1  Action|Drama|Thriller  \n",
       "2                  Drama  \n",
       "3           Comedy|Crime  \n",
       "4                  Drama  \n",
       "5                 Sci-Fi  \n",
       "6            Documentary  \n",
       "7                 Comedy  \n",
       "8               Thriller  "
      ]
     },
     "execution_count": 286,
     "metadata": {},
     "output_type": "execute_result"
    }
   ],
   "source": [
    "#recommending movies based on genre weights and cosine similarity\n",
    "movie_recommender(800,genre_Weight_sim)"
   ]
  }
 ],
 "metadata": {
  "kernelspec": {
   "display_name": "Python 3",
   "language": "python",
   "name": "python3"
  },
  "language_info": {
   "codemirror_mode": {
    "name": "ipython",
    "version": 3
   },
   "file_extension": ".py",
   "mimetype": "text/x-python",
   "name": "python",
   "nbconvert_exporter": "python",
   "pygments_lexer": "ipython3",
   "version": "3.11.8"
  },
  "orig_nbformat": 4
 },
 "nbformat": 4,
 "nbformat_minor": 2
}
